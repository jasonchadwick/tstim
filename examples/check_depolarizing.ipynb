{
 "cells": [
  {
   "cell_type": "code",
   "execution_count": 1,
   "metadata": {},
   "outputs": [],
   "source": [
    "import sys\n",
    "sys.path.append('..')\n",
    "\n",
    "import stim\n",
    "from tstim import tstim\n",
    "import qc_utils.tomography\n",
    "import matplotlib.pyplot as plt"
   ]
  },
  {
   "cell_type": "code",
   "execution_count": 2,
   "metadata": {},
   "outputs": [
    {
     "data": {
      "text/plain": [
       "0.5139"
      ]
     },
     "execution_count": 2,
     "metadata": {},
     "output_type": "execute_result"
    }
   ],
   "source": [
    "tcirc = tstim.TStimCircuit()\n",
    "\n",
    "tcirc.append('R', [0, 1])\n",
    "tcirc.append('H', 0)\n",
    "\n",
    "tcirc.append_time_pos(0)\n",
    "tcirc.append_time_depolarize([0], [0], 1.0)\n",
    "tcirc.append('M', 0)\n",
    "tcirc.append('DETECTOR', stim.target_rec(-1))\n",
    "\n",
    "tcirc.to_stim().compile_detector_sampler().sample(10**4).mean()"
   ]
  },
  {
   "cell_type": "code",
   "execution_count": 3,
   "metadata": {},
   "outputs": [
    {
     "data": {
      "text/plain": [
       "stim.Circuit('''\n",
       "    R 0 1\n",
       "    H 0\n",
       "    R 2 3\n",
       "    E(0.25) X2\n",
       "    ELSE_CORRELATED_ERROR(0.333333) X2 X3\n",
       "    ELSE_CORRELATED_ERROR(0.5) X3\n",
       "    CX 2 0\n",
       "    CZ 3 0\n",
       "    M 0\n",
       "    DETECTOR rec[-1]\n",
       "''')"
      ]
     },
     "execution_count": 3,
     "metadata": {},
     "output_type": "execute_result"
    }
   ],
   "source": [
    "tcirc.to_stim()"
   ]
  },
  {
   "cell_type": "code",
   "execution_count": 4,
   "metadata": {},
   "outputs": [],
   "source": [
    "import qc_utils.tomography.process_tomography\n",
    "\n",
    "class StimTomography(qc_utils.tomography.process_tomography.ProcessTomography):\n",
    "    def __init__(self, num_shots: int = 10**4):\n",
    "        super().__init__(tstim.TStimCircuit, 1)\n",
    "        self.num_shots = num_shots\n",
    "\n",
    "    def initialize(self, state: str, **kwargs):\n",
    "        self.state = tstim.TStimCircuit()\n",
    "        self.state.append('R', 0)\n",
    "        if state == '0':\n",
    "            return\n",
    "        elif state == '1':\n",
    "            self.state.append('X', 0)\n",
    "        elif state == '+':\n",
    "            self.state.append('H', 0)\n",
    "        elif state == '-':\n",
    "            self.state.append('X', 0)\n",
    "            self.state.append('H', 0)\n",
    "        elif state == 'i':\n",
    "            self.state.append('H', 0)\n",
    "            self.state.append('S', 0)\n",
    "        elif state == '-i':\n",
    "            self.state.append('X', 0)\n",
    "            self.state.append('H', 0)\n",
    "            self.state.append('S', 0)\n",
    "    \n",
    "    def apply_process(self, **kwargs) -> None:\n",
    "        # self.state.append_time_depolarize([0,1], [0,0], 1.0)\n",
    "        self.state.append_time_depolarize([0], [0], 1.0)\n",
    "        # self.state.append('DEPOLARIZE2', [0,1], 15/16)\n",
    "        # self.state.append('E', stim.target_x(0), 0.25)\n",
    "        # self.state.append('ELSE_CORRELATED_ERROR', stim.target_y(0), 1/3)\n",
    "        # self.state.append('ELSE_CORRELATED_ERROR', stim.target_z(0), 0.5)\n",
    "        self.state.append_time_pos(0)\n",
    "    \n",
    "    def measure_X(self, **kwargs):\n",
    "        self.state.append('MX', 0)\n",
    "        self.state.append('DETECTOR', stim.target_rec(-1))\n",
    "\n",
    "        frac_1 = self.state.to_stim().compile_detector_sampler().sample(self.num_shots).mean()\n",
    "        return [1-frac_1, frac_1]\n",
    "    \n",
    "    def measure_Y(self, **kwargs):\n",
    "        self.state.append('MY', 0)\n",
    "        self.state.append('DETECTOR', stim.target_rec(-1))\n",
    "\n",
    "        frac_1 = self.state.to_stim().compile_detector_sampler().sample(self.num_shots).mean()\n",
    "        return [1-frac_1, frac_1]\n",
    "    \n",
    "    def measure_Z(self, **kwargs):\n",
    "        self.state.append('MZ', 0)\n",
    "        self.state.append('DETECTOR', stim.target_rec(-1))\n",
    "\n",
    "        frac_1 = self.state.to_stim().compile_detector_sampler().sample(self.num_shots).mean()\n",
    "        return [1-frac_1, frac_1]"
   ]
  },
  {
   "cell_type": "code",
   "execution_count": 5,
   "metadata": {},
   "outputs": [
    {
     "data": {
      "text/plain": [
       "<matplotlib.colorbar.Colorbar at 0x3166c1eb0>"
      ]
     },
     "execution_count": 5,
     "metadata": {},
     "output_type": "execute_result"
    },
    {
     "data": {
      "image/png": "[encoded data removed]",
      "text/plain": [
       "<Figure size 640x480 with 2 Axes>"
      ]
     },
     "metadata": {},
     "output_type": "display_data"
    }
   ],
   "source": [
    "s = StimTomography(10**6)\n",
    "chi = s.run_process_tomography()\n",
    "plt.imshow(chi.__abs__())\n",
    "plt.colorbar()"
   ]
  },
  {
   "cell_type": "code",
   "execution_count": null,
   "metadata": {},
   "outputs": [],
   "source": []
  }
 ],
 "metadata": {
  "kernelspec": {
   "display_name": "tstim-kec_ArEa-py3.12",
   "language": "python",
   "name": "python3"
  },
  "language_info": {
   "codemirror_mode": {
    "name": "ipython",
    "version": 3
   },
   "file_extension": ".py",
   "mimetype": "text/x-python",
   "name": "python",
   "nbconvert_exporter": "python",
   "pygments_lexer": "ipython3",
   "version": "3.12.2"
  }
 },
 "nbformat": 4,
 "nbformat_minor": 2
}
