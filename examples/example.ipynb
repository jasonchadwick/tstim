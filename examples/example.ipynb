{
 "cells": [
  {
   "cell_type": "code",
   "execution_count": 1,
   "metadata": {},
   "outputs": [],
   "source": [
    "import sys\n",
    "sys.path.append('..')\n",
    "\n",
    "import stim\n",
    "from tstim import tstim"
   ]
  },
  {
   "cell_type": "code",
   "execution_count": 2,
   "metadata": {},
   "outputs": [],
   "source": [
    "tcirc = tstim.TStimCircuit()\n",
    "\n",
    "q0 = 0\n",
    "q1 = 1\n",
    "tcirc.append(f'R {q0} {q1}')\n",
    "tcirc.append_time_pos(0)\n",
    "tcirc.append(f'H {q0} {q1}')\n",
    "tcirc.append_time_pos(1)\n",
    "tcirc.append_time_correlated_error('XY', [q0, q1], [0,1], 0.01)\n",
    "tcirc.append(f'S {q0} {q1}')\n",
    "tcirc.append_time_depolarize([q0, q1], [2,3], 0.01)\n",
    "tcirc.append_time_pos(2)\n",
    "tcirc.append(f'H {q0} {q1}')\n",
    "tcirc.append_time_pos(3)"
   ]
  },
  {
   "cell_type": "code",
   "execution_count": 3,
   "metadata": {},
   "outputs": [
    {
     "data": {
      "text/plain": [
       "stim.Circuit('''\n",
       "    R 0 1\n",
       "    H 0 1\n",
       "    S 0 1\n",
       "    H 0 1\n",
       "''')"
      ]
     },
     "execution_count": 3,
     "metadata": {},
     "output_type": "execute_result"
    }
   ],
   "source": [
    "stim.Circuit('\\n'.join(tcirc._bare_stim_circuit_str))"
   ]
  },
  {
   "cell_type": "code",
   "execution_count": 4,
   "metadata": {},
   "outputs": [
    {
     "data": {
      "text/plain": [
       "stim.Circuit('''\n",
       "    R 0 1 1002\n",
       "    X_ERROR(0.01) 1002\n",
       "    CX 1002 0\n",
       "    H 0 1\n",
       "    CY 1002 1\n",
       "    S 0 1\n",
       "    R 1002 1003 1004 1005\n",
       "    E(0.000625) X1003\n",
       "    ELSE_CORRELATED_ERROR(0.000625391) X1003 X1005\n",
       "    ELSE_CORRELATED_ERROR(0.000625782) X1005\n",
       "    ELSE_CORRELATED_ERROR(0.000626174) X1002\n",
       "    ELSE_CORRELATED_ERROR(0.000626566) X1002 X1003\n",
       "    ELSE_CORRELATED_ERROR(0.000626959) X1002 X1003 X1005\n",
       "    ELSE_CORRELATED_ERROR(0.000627353) X1002 X1005\n",
       "    ELSE_CORRELATED_ERROR(0.000627746) X1002 X1004\n",
       "    ELSE_CORRELATED_ERROR(0.000628141) X1002 X1003 X1004\n",
       "    ELSE_CORRELATED_ERROR(0.000628536) X1002 X1003 X1004 X1005\n",
       "    ELSE_CORRELATED_ERROR(0.000628931) X1002 X1004 X1005\n",
       "    ELSE_CORRELATED_ERROR(0.000629327) X1004\n",
       "    ELSE_CORRELATED_ERROR(0.000629723) X1003 X1004\n",
       "    ELSE_CORRELATED_ERROR(0.00063012) X1003 X1004 X1005\n",
       "    ELSE_CORRELATED_ERROR(0.000630517) X1004 X1005\n",
       "    CX 1002 0\n",
       "    CZ 1004 0\n",
       "    H 0 1\n",
       "    CX 1003 1\n",
       "    CZ 1005 1\n",
       "''')"
      ]
     },
     "execution_count": 4,
     "metadata": {},
     "output_type": "execute_result"
    }
   ],
   "source": [
    "tcirc.to_stim(ancilla_offset=1000)"
   ]
  },
  {
   "cell_type": "code",
   "execution_count": 5,
   "metadata": {},
   "outputs": [],
   "source": [
    "q0 = 0\n",
    "q1 = 1\n",
    "\n",
    "tcirc = tstim.TStimCircuit()\n",
    "\n",
    "tcirc.append(f'R {q0} {q1} {2}')\n",
    "tcirc.append_time_pos(0)\n",
    "tcirc.append(f'H {q0} {q1}', annotation='H gate')\n",
    "tcirc.append_time_pos(1)\n",
    "tcirc.append_time_correlated_error('XY', [q0, q1], [0,1], 0.01)\n",
    "tcirc.append(f'S {q0} {q1}')\n",
    "tcirc.append_time_depolarize([q0, q1], [2,3], 0.01, 'BIG')\n",
    "tcirc.append_time_depolarize([2], [3], 1)\n",
    "tcirc.append_time_depolarize([q0, q1, 2], [1, 2,3], 0.01, 'BIG')\n",
    "tcirc.append_time_pos(2)\n",
    "tcirc.append(f'H {q0} {q1}')\n",
    "tcirc.append_time_pos(3)"
   ]
  },
  {
   "cell_type": "code",
   "execution_count": 6,
   "metadata": {},
   "outputs": [
    {
     "data": {
      "text/plain": [
       "['R 0 1 2', 'H 0 1', 'S 0 1', 'H 0 1']"
      ]
     },
     "execution_count": 6,
     "metadata": {},
     "output_type": "execute_result"
    }
   ],
   "source": [
    "tcirc._bare_stim_circuit_str"
   ]
  },
  {
   "cell_type": "code",
   "execution_count": 7,
   "metadata": {},
   "outputs": [
    {
     "ename": "AssertionError",
     "evalue": "1 correlated errors were not resolved. This means that there are correlated errors that refer to nonexistent TIME_POS indices.",
     "output_type": "error",
     "traceback": [
      "\u001b[0;31m---------------------------------------------------------------------------\u001b[0m",
      "\u001b[0;31mAssertionError\u001b[0m                            Traceback (most recent call last)",
      "Cell \u001b[0;32mIn[7], line 1\u001b[0m\n\u001b[0;32m----> 1\u001b[0m \u001b[43mtcirc\u001b[49m\u001b[38;5;241;43m.\u001b[39;49m\u001b[43mto_stim\u001b[49m\u001b[43m(\u001b[49m\u001b[43mancilla_offset\u001b[49m\u001b[38;5;241;43m=\u001b[39;49m\u001b[38;5;241;43m1000\u001b[39;49m\u001b[43m,\u001b[49m\u001b[43m \u001b[49m\u001b[43minclude_time_correlations\u001b[49m\u001b[38;5;241;43m=\u001b[39;49m\u001b[38;5;28;43;01mTrue\u001b[39;49;00m\u001b[43m,\u001b[49m\u001b[43m \u001b[49m\u001b[43mseparate_depolarize_ancilla_gates\u001b[49m\u001b[38;5;241;43m=\u001b[39;49m\u001b[38;5;28;43;01mTrue\u001b[39;49;00m\u001b[43m)\u001b[49m\n",
      "File \u001b[0;32m~/projects/tstim/tstim/tstim.py:357\u001b[0m, in \u001b[0;36mTStimCircuit.to_stim\u001b[0;34m(self, include_time_correlations, reuse_ancillae, ancilla_offset, num_times_to_be_sampled, reduction_eps, separate_depolarize_ancilla_gates)\u001b[0m\n\u001b[1;32m    354\u001b[0m             annotations[\u001b[38;5;28mlen\u001b[39m(full_circuit_str)] \u001b[38;5;241m=\u001b[39m annotation\n\u001b[1;32m    355\u001b[0m         full_circuit_str\u001b[38;5;241m.\u001b[39mappend(\u001b[38;5;28mstr\u001b[39m(instr))\n\u001b[0;32m--> 357\u001b[0m \u001b[38;5;28;01massert\u001b[39;00m \u001b[38;5;28mlen\u001b[39m(unfinished_correlated_errors) \u001b[38;5;241m==\u001b[39m \u001b[38;5;241m0\u001b[39m, \u001b[38;5;124mf\u001b[39m\u001b[38;5;124m'\u001b[39m\u001b[38;5;132;01m{\u001b[39;00m\u001b[38;5;28mlen\u001b[39m(unfinished_correlated_errors)\u001b[38;5;132;01m}\u001b[39;00m\u001b[38;5;124m correlated errors were not resolved. This means that there are correlated errors that refer to nonexistent TIME_POS indices.\u001b[39m\u001b[38;5;124m'\u001b[39m\n\u001b[1;32m    359\u001b[0m \u001b[38;5;28;01mif\u001b[39;00m \u001b[38;5;28mlen\u001b[39m(annotations) \u001b[38;5;241m>\u001b[39m \u001b[38;5;241m0\u001b[39m:\n\u001b[1;32m    360\u001b[0m     \u001b[38;5;28;01mreturn\u001b[39;00m stim\u001b[38;5;241m.\u001b[39mCircuit(\u001b[38;5;124m'\u001b[39m\u001b[38;5;130;01m\\n\u001b[39;00m\u001b[38;5;124m'\u001b[39m\u001b[38;5;241m.\u001b[39mjoin(full_circuit_str)), annotations\n",
      "\u001b[0;31mAssertionError\u001b[0m: 1 correlated errors were not resolved. This means that there are correlated errors that refer to nonexistent TIME_POS indices."
     ]
    }
   ],
   "source": [
    "tcirc.to_stim(ancilla_offset=1000, include_time_correlations=True, separate_depolarize_ancilla_gates=True)"
   ]
  },
  {
   "cell_type": "code",
   "execution_count": null,
   "metadata": {},
   "outputs": [
    {
     "data": {
      "text/html": [
       "<pre>q0: -R---------------X-H-S-------------------------------------------------------------------------------------------------------------------------------------------------------------------------------------------------------------------------------------------------------------------------------------------------------------------------------------------------------------------------------------------------------------------------------------------------------------------------------------------------------------------------------X-------------------------------------@-H-----------------------\n",
       "                     |                                                                                                                                                                                                                                                                                                                                                                                                                                                                                                                                   |                                     |\n",
       "q1: -R---------------|-H-Y-S-----------------------------------------------------------------------------------------------------------------------------------------------------------------------------------------------------------------------------------------------------------------------------------------------------------------------------------------------------------------------------------------------------------------------------------------------------------------------------------------------------------------------------|-------------------------------------|-H-X-@-------------------\n",
       "                     |   |                                                                                                                                                                                                                                                                                                                                                                                                                                                                                                                               |                                     |   | |\n",
       "q2: -R---------------|---|-------------------------------------------------------------------------------------------------------------------------------------------------------------------------------------------------------------------------------------------------------------------------------------------------------------------------------------------------------------------------------------------------------------------------------------------------------------------------------------------------------------------------------|-------------------------------------|---|-|-DEPOLARIZE1(0.75)-\n",
       "                     |   |                                                                                                                                                                                                                                                                                                                                                                                                                                                                                                                               |                                     |   | |\n",
       "q3: -R-X_ERROR(0.01)-@---@-R--------------------------------------------------------------------------------------------ELSE_CORRELATED_ERROR[X](0.000626174)-ELSE_CORRELATED_ERROR[X](0.000626566)-ELSE_CORRELATED_ERROR[X](0.000626959)-ELSE_CORRELATED_ERROR[X](0.000627353)-ELSE_CORRELATED_ERROR[X](0.000627746)-ELSE_CORRELATED_ERROR[X](0.000628141)-ELSE_CORRELATED_ERROR[X](0.000628536)-ELSE_CORRELATED_ERROR[X](0.000628931)------------------------------------------------------------------------------------------------------------------@-------------------------------------|---|-|-------------------\n",
       "                                                                                                                                                              |                                     |                                     |                                     |                                     |                                     |                                     |                                                                                                                                                                                            |   | |\n",
       "q4: -----------------------R-E[X](0.000625)-ELSE_CORRELATED_ERROR[X](0.000625391)-----------------------------------------------------------------------------ELSE_CORRELATED_ERROR[X](0.000626566)-ELSE_CORRELATED_ERROR[X](0.000626959)-|-------------------------------------|-------------------------------------ELSE_CORRELATED_ERROR[X](0.000628141)-ELSE_CORRELATED_ERROR[X](0.000628536)-|---------------------------------------------------------------------------ELSE_CORRELATED_ERROR[X](0.000629723)-ELSE_CORRELATED_ERROR[X](0.00063012)---------------------------------------|---@-|-------------------\n",
       "                                            |                                                                                                                                                       |                                     |                                     |                                     |                                     |                                     |                                                                           |                                     |                                                                          |     |\n",
       "q5: -----------------------R----------------|-------------------------------------------------------------------------------------------------------------------------------------------------------|-------------------------------------|-------------------------------------ELSE_CORRELATED_ERROR[X](0.000627746)-ELSE_CORRELATED_ERROR[X](0.000628141)-ELSE_CORRELATED_ERROR[X](0.000628536)-ELSE_CORRELATED_ERROR[X](0.000628931)-ELSE_CORRELATED_ERROR[X](0.000629327)-ELSE_CORRELATED_ERROR[X](0.000629723)-ELSE_CORRELATED_ERROR[X](0.00063012)-ELSE_CORRELATED_ERROR[X](0.000630517)-@-----|-------------------\n",
       "                                            |                                                                                                                                                       |                                     |                                                                                                                 |                                     |                                                                                                                 |                                    |                                           |\n",
       "q6: -----------------------R----------------ELSE_CORRELATED_ERROR[X](0.000625391)-ELSE_CORRELATED_ERROR[X](0.000625782)-----------------------------------------------------------------------------ELSE_CORRELATED_ERROR[X](0.000626959)-ELSE_CORRELATED_ERROR[X](0.000627353)-----------------------------------------------------------------------------ELSE_CORRELATED_ERROR[X](0.000628536)-ELSE_CORRELATED_ERROR[X](0.000628931)-----------------------------------------------------------------------------ELSE_CORRELATED_ERROR[X](0.00063012)-ELSE_CORRELATED_ERROR[X](0.000630517)-------@-------------------</pre>"
      ],
      "text/plain": [
       "q0: -R---------------X-H-S-------------------------------------------------------------------------------------------------------------------------------------------------------------------------------------------------------------------------------------------------------------------------------------------------------------------------------------------------------------------------------------------------------------------------------------------------------------------------------------------------------------------------------X-------------------------------------@-H-----------------------\n",
       "                     |                                                                                                                                                                                                                                                                                                                                                                                                                                                                                                                                   |                                     |\n",
       "q1: -R---------------|-H-Y-S-----------------------------------------------------------------------------------------------------------------------------------------------------------------------------------------------------------------------------------------------------------------------------------------------------------------------------------------------------------------------------------------------------------------------------------------------------------------------------------------------------------------------------|-------------------------------------|-H-X-@-------------------\n",
       "                     |   |                                                                                                                                                                                                                                                                                                                                                                                                                                                                                                                               |                                     |   | |\n",
       "q2: -R---------------|---|-------------------------------------------------------------------------------------------------------------------------------------------------------------------------------------------------------------------------------------------------------------------------------------------------------------------------------------------------------------------------------------------------------------------------------------------------------------------------------------------------------------------------------|-------------------------------------|---|-|-DEPOLARIZE1(0.75)-\n",
       "                     |   |                                                                                                                                                                                                                                                                                                                                                                                                                                                                                                                               |                                     |   | |\n",
       "q3: -R-X_ERROR(0.01)-@---@-R--------------------------------------------------------------------------------------------ELSE_CORRELATED_ERROR[X](0.000626174)-ELSE_CORRELATED_ERROR[X](0.000626566)-ELSE_CORRELATED_ERROR[X](0.000626959)-ELSE_CORRELATED_ERROR[X](0.000627353)-ELSE_CORRELATED_ERROR[X](0.000627746)-ELSE_CORRELATED_ERROR[X](0.000628141)-ELSE_CORRELATED_ERROR[X](0.000628536)-ELSE_CORRELATED_ERROR[X](0.000628931)------------------------------------------------------------------------------------------------------------------@-------------------------------------|---|-|-------------------\n",
       "                                                                                                                                                              |                                     |                                     |                                     |                                     |                                     |                                     |                                                                                                                                                                                            |   | |\n",
       "q4: -----------------------R-E[X](0.000625)-ELSE_CORRELATED_ERROR[X](0.000625391)-----------------------------------------------------------------------------ELSE_CORRELATED_ERROR[X](0.000626566)-ELSE_CORRELATED_ERROR[X](0.000626959)-|-------------------------------------|-------------------------------------ELSE_CORRELATED_ERROR[X](0.000628141)-ELSE_CORRELATED_ERROR[X](0.000628536)-|---------------------------------------------------------------------------ELSE_CORRELATED_ERROR[X](0.000629723)-ELSE_CORRELATED_ERROR[X](0.00063012)---------------------------------------|---@-|-------------------\n",
       "                                            |                                                                                                                                                       |                                     |                                     |                                     |                                     |                                     |                                                                           |                                     |                                                                          |     |\n",
       "q5: -----------------------R----------------|-------------------------------------------------------------------------------------------------------------------------------------------------------|-------------------------------------|-------------------------------------ELSE_CORRELATED_ERROR[X](0.000627746)-ELSE_CORRELATED_ERROR[X](0.000628141)-ELSE_CORRELATED_ERROR[X](0.000628536)-ELSE_CORRELATED_ERROR[X](0.000628931)-ELSE_CORRELATED_ERROR[X](0.000629327)-ELSE_CORRELATED_ERROR[X](0.000629723)-ELSE_CORRELATED_ERROR[X](0.00063012)-ELSE_CORRELATED_ERROR[X](0.000630517)-@-----|-------------------\n",
       "                                            |                                                                                                                                                       |                                     |                                                                                                                 |                                     |                                                                                                                 |                                    |                                           |\n",
       "q6: -----------------------R----------------ELSE_CORRELATED_ERROR[X](0.000625391)-ELSE_CORRELATED_ERROR[X](0.000625782)-----------------------------------------------------------------------------ELSE_CORRELATED_ERROR[X](0.000626959)-ELSE_CORRELATED_ERROR[X](0.000627353)-----------------------------------------------------------------------------ELSE_CORRELATED_ERROR[X](0.000628536)-ELSE_CORRELATED_ERROR[X](0.000628931)-----------------------------------------------------------------------------ELSE_CORRELATED_ERROR[X](0.00063012)-ELSE_CORRELATED_ERROR[X](0.000630517)-------@-------------------"
      ]
     },
     "execution_count": 5,
     "metadata": {},
     "output_type": "execute_result"
    }
   ],
   "source": [
    "tcirc.to_stim(ancilla_offset=0)[0].diagram()"
   ]
  },
  {
   "cell_type": "code",
   "execution_count": null,
   "metadata": {},
   "outputs": [
    {
     "data": {
      "text/plain": [
       "(stim.Circuit('''\n",
       "     R 0 1 2\n",
       "     H 0 1\n",
       "     S 0 1\n",
       "     H 0 1\n",
       " '''),\n",
       " {1: 'H gate'})"
      ]
     },
     "execution_count": 6,
     "metadata": {},
     "output_type": "execute_result"
    }
   ],
   "source": [
    "tcirc.to_stim(include_time_correlations=False)"
   ]
  },
  {
   "cell_type": "code",
   "execution_count": null,
   "metadata": {},
   "outputs": [],
   "source": []
  }
 ],
 "metadata": {
  "kernelspec": {
   "display_name": "tstim-kec_ArEa-py3.12",
   "language": "python",
   "name": "python3"
  },
  "language_info": {
   "codemirror_mode": {
    "name": "ipython",
    "version": 3
   },
   "file_extension": ".py",
   "mimetype": "text/x-python",
   "name": "python",
   "nbconvert_exporter": "python",
   "pygments_lexer": "ipython3",
   "version": "3.12.2"
  }
 },
 "nbformat": 4,
 "nbformat_minor": 2
}
