{
 "cells": [
  {
   "cell_type": "code",
   "execution_count": 12,
   "metadata": {},
   "outputs": [],
   "source": [
    "import sys\n",
    "sys.path.append('..')\n",
    "\n",
    "import stim\n",
    "from tstim import tstim"
   ]
  },
  {
   "cell_type": "code",
   "execution_count": 16,
   "metadata": {},
   "outputs": [],
   "source": [
    "tcirc = tstim.TStimCircuit()\n",
    "\n",
    "q0 = 0\n",
    "q1 = 1\n",
    "tcirc.append(f'R {q0} {q1}')\n",
    "tcirc.append_time_pos(0)\n",
    "tcirc.append(f'H {q0} {q1}')\n",
    "tcirc.append_time_pos(1)\n",
    "tcirc.append_time_correlated_error('XY', [q0, q1], [0,1], 0.01)\n",
    "tcirc.append(f'S {q0} {q1}')\n",
    "tcirc.append_time_depolarize([q0, q1], [2,3], 0.01)\n",
    "tcirc.append_time_pos(2)\n",
    "tcirc.append(f'H {q0} {q1}')\n",
    "tcirc.append_time_pos(3)"
   ]
  },
  {
   "cell_type": "code",
   "execution_count": 17,
   "metadata": {},
   "outputs": [
    {
     "data": {
      "text/plain": [
       "stim.Circuit('''\n",
       "    R 0 1\n",
       "    H 0 1\n",
       "    S 0 1\n",
       "    H 0 1\n",
       "''')"
      ]
     },
     "execution_count": 17,
     "metadata": {},
     "output_type": "execute_result"
    }
   ],
   "source": [
    "stim.Circuit('\\n'.join(tcirc._bare_stim_circuit_str))"
   ]
  },
  {
   "cell_type": "code",
   "execution_count": 18,
   "metadata": {},
   "outputs": [
    {
     "data": {
      "text/plain": [
       "stim.Circuit('''\n",
       "    R 0 1 1002\n",
       "    X_ERROR(0.01) 1002\n",
       "    CX 1002 0\n",
       "    H 0 1\n",
       "    CY 1002 1\n",
       "    S 0 1\n",
       "    R 1002 1003 1004 1005\n",
       "    E(0.000625) X1003\n",
       "    ELSE_CORRELATED_ERROR(0.000625391) X1003 X1005\n",
       "    ELSE_CORRELATED_ERROR(0.000625782) X1005\n",
       "    ELSE_CORRELATED_ERROR(0.000626174) X1002\n",
       "    ELSE_CORRELATED_ERROR(0.000626566) X1002 X1003\n",
       "    ELSE_CORRELATED_ERROR(0.000626959) X1002 X1003 X1005\n",
       "    ELSE_CORRELATED_ERROR(0.000627353) X1002 X1005\n",
       "    ELSE_CORRELATED_ERROR(0.000627746) X1002 X1004\n",
       "    ELSE_CORRELATED_ERROR(0.000628141) X1002 X1003 X1004\n",
       "    ELSE_CORRELATED_ERROR(0.000628536) X1002 X1003 X1004 X1005\n",
       "    ELSE_CORRELATED_ERROR(0.000628931) X1002 X1004 X1005\n",
       "    ELSE_CORRELATED_ERROR(0.000629327) X1004\n",
       "    ELSE_CORRELATED_ERROR(0.000629723) X1003 X1004\n",
       "    ELSE_CORRELATED_ERROR(0.00063012) X1003 X1004 X1005\n",
       "    ELSE_CORRELATED_ERROR(0.000630517) X1004 X1005\n",
       "    CX 1002 0\n",
       "    CZ 1004 0\n",
       "    H 0 1\n",
       "    CX 1003 1\n",
       "    CZ 1005 1\n",
       "''')"
      ]
     },
     "execution_count": 18,
     "metadata": {},
     "output_type": "execute_result"
    }
   ],
   "source": [
    "tcirc.to_stim(ancilla_offset=1000)"
   ]
  },
  {
   "cell_type": "code",
   "execution_count": 5,
   "metadata": {},
   "outputs": [],
   "source": [
    "q0 = 0\n",
    "q1 = 1\n",
    "\n",
    "tcirc = tstim.TStimCircuit()\n",
    "\n",
    "tcirc.append(f'R {q0} {q1} {2}')\n",
    "tcirc.append_time_pos(0)\n",
    "tcirc.append(f'H {q0} {q1}', annotation='H gate')\n",
    "tcirc.append_time_pos(1)\n",
    "tcirc.append_time_correlated_error('XY', [q0, q1], [0,1], 0.01)\n",
    "tcirc.append(f'S {q0} {q1}')\n",
    "tcirc.append_time_depolarize([q0, q1], [2,3], 0.01, 'BIG')\n",
    "tcirc.append_time_depolarize([2], [3], 1)\n",
    "tcirc.append_time_depolarize([q0, q1, 2], [1, 2,3], 0.01, 'BIG')\n",
    "tcirc.append_time_pos(2)\n",
    "tcirc.append(f'H {q0} {q1}')\n",
    "tcirc.append_time_pos(3)"
   ]
  },
  {
   "cell_type": "code",
   "execution_count": 6,
   "metadata": {},
   "outputs": [
    {
     "data": {
      "text/plain": [
       "['R 0 1 2', 'H 0 1', 'S 0 1', 'H 0 1']"
      ]
     },
     "execution_count": 6,
     "metadata": {},
     "output_type": "execute_result"
    }
   ],
   "source": [
    "tcirc._bare_stim_circuit_str"
   ]
  },
  {
   "cell_type": "code",
   "execution_count": 7,
   "metadata": {},
   "outputs": [
    {
     "data": {
      "text/plain": [
       "(stim.Circuit('''\n",
       "     R 0 1 2 1003\n",
       "     X_ERROR(0.01) 1003\n",
       "     CX 1003 0\n",
       "     H 0 1\n",
       "     CY 1003 1\n",
       "     S 0 1\n",
       "     R 1003 1004 1005 1006\n",
       "     E(0.000625) X1004\n",
       "     ELSE_CORRELATED_ERROR(0.000625391) X1004 X1006\n",
       "     ELSE_CORRELATED_ERROR(0.000625782) X1006\n",
       "     ELSE_CORRELATED_ERROR(0.000626174) X1003\n",
       "     ELSE_CORRELATED_ERROR(0.000626566) X1003 X1004\n",
       "     ELSE_CORRELATED_ERROR(0.000626959) X1003 X1004 X1006\n",
       "     ELSE_CORRELATED_ERROR(0.000627353) X1003 X1006\n",
       "     ELSE_CORRELATED_ERROR(0.000627746) X1003 X1005\n",
       "     ELSE_CORRELATED_ERROR(0.000628141) X1003 X1004 X1005\n",
       "     ELSE_CORRELATED_ERROR(0.000628536) X1003 X1004 X1005 X1006\n",
       "     ELSE_CORRELATED_ERROR(0.000628931) X1003 X1005 X1006\n",
       "     ELSE_CORRELATED_ERROR(0.000629327) X1005\n",
       "     ELSE_CORRELATED_ERROR(0.000629723) X1004 X1005\n",
       "     ELSE_CORRELATED_ERROR(0.00063012) X1004 X1005 X1006\n",
       "     ELSE_CORRELATED_ERROR(0.000630517) X1005 X1006\n",
       "     CX 1003 0\n",
       "     CZ 1005 0\n",
       "     H 0 1\n",
       "     CX 1004 1\n",
       "     CZ 1006 1\n",
       "     DEPOLARIZE1(0.75) 2\n",
       "     R 1003 1004 1005 1006 1007 1008\n",
       "     E(0.00015625) X1005\n",
       "     ELSE_CORRELATED_ERROR(0.000156274) X1005 X1008\n",
       "     ELSE_CORRELATED_ERROR(0.000156299) X1008\n",
       "     ELSE_CORRELATED_ERROR(0.000156323) X1004\n",
       "     ELSE_CORRELATED_ERROR(0.000156348) X1004 X1005\n",
       "     ELSE_CORRELATED_ERROR(0.000156372) X1004 X1005 X1008\n",
       "     ELSE_CORRELATED_ERROR(0.000156397) X1004 X1008\n",
       "     ELSE_CORRELATED_ERROR(0.000156421) X1004 X1007\n",
       "     ELSE_CORRELATED_ERROR(0.000156446) X1004 X1005 X1007\n",
       "     ELSE_CORRELATED_ERROR(0.00015647) X1004 X1005 X1007 X1008\n",
       "     ELSE_CORRELATED_ERROR(0.000156495) X1004 X1007 X1008\n",
       "     ELSE_CORRELATED_ERROR(0.000156519) X1007\n",
       "     ELSE_CORRELATED_ERROR(0.000156544) X1005 X1007\n",
       "     ELSE_CORRELATED_ERROR(0.000156568) X1005 X1007 X1008\n",
       "     ELSE_CORRELATED_ERROR(0.000156593) X1007 X1008\n",
       "     ELSE_CORRELATED_ERROR(0.000156617) X1003\n",
       "     ELSE_CORRELATED_ERROR(0.000156642) X1003 X1005\n",
       "     ELSE_CORRELATED_ERROR(0.000156666) X1003 X1005 X1008\n",
       "     ELSE_CORRELATED_ERROR(0.000156691) X1003 X1008\n",
       "     ELSE_CORRELATED_ERROR(0.000156715) X1003 X1004\n",
       "     ELSE_CORRELATED_ERROR(0.00015674) X1003 X1004 X1005\n",
       "     ELSE_CORRELATED_ERROR(0.000156764) X1003 X1004 X1005 X1008\n",
       "     ELSE_CORRELATED_ERROR(0.000156789) X1003 X1004 X1008\n",
       "     ELSE_CORRELATED_ERROR(0.000156814) X1003 X1004 X1007\n",
       "     ELSE_CORRELATED_ERROR(0.000156838) X1003 X1004 X1005 X1007\n",
       "     ELSE_CORRELATED_ERROR(0.000156863) X1003 X1004 X1005 X1007 X1008\n",
       "     ELSE_CORRELATED_ERROR(0.000156887) X1003 X1004 X1007 X1008\n",
       "     ELSE_CORRELATED_ERROR(0.000156912) X1003 X1007\n",
       "     ELSE_CORRELATED_ERROR(0.000156937) X1003 X1005 X1007\n",
       "     ELSE_CORRELATED_ERROR(0.000156961) X1003 X1005 X1007 X1008\n",
       "     ELSE_CORRELATED_ERROR(0.000156986) X1003 X1007 X1008\n",
       "     ELSE_CORRELATED_ERROR(0.000157011) X1003 X1006\n",
       "     ELSE_CORRELATED_ERROR(0.000157035) X1003 X1005 X1006\n",
       "     ELSE_CORRELATED_ERROR(0.00015706) X1003 X1005 X1006 X1008\n",
       "     ELSE_CORRELATED_ERROR(0.000157085) X1003 X1006 X1008\n",
       "     ELSE_CORRELATED_ERROR(0.000157109) X1003 X1004 X1006\n",
       "     ELSE_CORRELATED_ERROR(0.000157134) X1003 X1004 X1005 X1006\n",
       "     ELSE_CORRELATED_ERROR(0.000157159) X1003 X1004 X1005 X1006 X1008\n",
       "     ELSE_CORRELATED_ERROR(0.000157183) X1003 X1004 X1006 X1008\n",
       "     ELSE_CORRELATED_ERROR(0.000157208) X1003 X1004 X1006 X1007\n",
       "     ELSE_CORRELATED_ERROR(0.000157233) X1003 X1004 X1005 X1006 X1007\n",
       "     ELSE_CORRELATED_ERROR(0.000157257) X1003 X1004 X1005 X1006 X1007 X1008\n",
       "     ELSE_CORRELATED_ERROR(0.000157282) X1003 X1004 X1006 X1007 X1008\n",
       "     ELSE_CORRELATED_ERROR(0.000157307) X1003 X1006 X1007\n",
       "     ELSE_CORRELATED_ERROR(0.000157332) X1003 X1005 X1006 X1007\n",
       "     ELSE_CORRELATED_ERROR(0.000157356) X1003 X1005 X1006 X1007 X1008\n",
       "     ELSE_CORRELATED_ERROR(0.000157381) X1003 X1006 X1007 X1008\n",
       "     ELSE_CORRELATED_ERROR(0.000157406) X1006\n",
       "     ELSE_CORRELATED_ERROR(0.000157431) X1005 X1006\n",
       "     ELSE_CORRELATED_ERROR(0.000157456) X1005 X1006 X1008\n",
       "     ELSE_CORRELATED_ERROR(0.00015748) X1006 X1008\n",
       "     ELSE_CORRELATED_ERROR(0.000157505) X1004 X1006\n",
       "     ELSE_CORRELATED_ERROR(0.00015753) X1004 X1005 X1006\n",
       "     ELSE_CORRELATED_ERROR(0.000157555) X1004 X1005 X1006 X1008\n",
       "     ELSE_CORRELATED_ERROR(0.00015758) X1004 X1006 X1008\n",
       "     ELSE_CORRELATED_ERROR(0.000157604) X1004 X1006 X1007\n",
       "     ELSE_CORRELATED_ERROR(0.000157629) X1004 X1005 X1006 X1007\n",
       "     ELSE_CORRELATED_ERROR(0.000157654) X1004 X1005 X1006 X1007 X1008\n",
       "     ELSE_CORRELATED_ERROR(0.000157679) X1004 X1006 X1007 X1008\n",
       "     ELSE_CORRELATED_ERROR(0.000157704) X1006 X1007\n",
       "     ELSE_CORRELATED_ERROR(0.000157729) X1005 X1006 X1007\n",
       "     ELSE_CORRELATED_ERROR(0.000157754) X1005 X1006 X1007 X1008\n",
       "     ELSE_CORRELATED_ERROR(0.000157778) X1006 X1007 X1008\n",
       "     CX 1005 2\n",
       "     CZ 1008 2\n",
       " '''),\n",
       " {4: 'H gate', 7: 'BIG', 29: 'BIG'})"
      ]
     },
     "execution_count": 7,
     "metadata": {},
     "output_type": "execute_result"
    }
   ],
   "source": [
    "tcirc.to_stim(ancilla_offset=1000, include_time_correlations=True, separate_depolarize_ancilla_gates=True)"
   ]
  },
  {
   "cell_type": "code",
   "execution_count": 5,
   "metadata": {},
   "outputs": [
    {
     "data": {
      "text/html": [
       "<pre>q0: -R---------------X-H-S-------------------------------------------------------------------------------------------------------------------------------------------------------------------------------------------------------------------------------------------------------------------------------------------------------------------------------------------------------------------------------------------------------------------------------------------------------------------------------------------------------------------------------X-------------------------------------@-H-----------------------\n",
       "                     |                                                                                                                                                                                                                                                                                                                                                                                                                                                                                                                                   |                                     |\n",
       "q1: -R---------------|-H-Y-S-----------------------------------------------------------------------------------------------------------------------------------------------------------------------------------------------------------------------------------------------------------------------------------------------------------------------------------------------------------------------------------------------------------------------------------------------------------------------------------------------------------------------------|-------------------------------------|-H-X-@-------------------\n",
       "                     |   |                                                                                                                                                                                                                                                                                                                                                                                                                                                                                                                               |                                     |   | |\n",
       "q2: -R---------------|---|-------------------------------------------------------------------------------------------------------------------------------------------------------------------------------------------------------------------------------------------------------------------------------------------------------------------------------------------------------------------------------------------------------------------------------------------------------------------------------------------------------------------------------|-------------------------------------|---|-|-DEPOLARIZE1(0.75)-\n",
       "                     |   |                                                                                                                                                                                                                                                                                                                                                                                                                                                                                                                               |                                     |   | |\n",
       "q3: -R-X_ERROR(0.01)-@---@-R--------------------------------------------------------------------------------------------ELSE_CORRELATED_ERROR[X](0.000626174)-ELSE_CORRELATED_ERROR[X](0.000626566)-ELSE_CORRELATED_ERROR[X](0.000626959)-ELSE_CORRELATED_ERROR[X](0.000627353)-ELSE_CORRELATED_ERROR[X](0.000627746)-ELSE_CORRELATED_ERROR[X](0.000628141)-ELSE_CORRELATED_ERROR[X](0.000628536)-ELSE_CORRELATED_ERROR[X](0.000628931)------------------------------------------------------------------------------------------------------------------@-------------------------------------|---|-|-------------------\n",
       "                                                                                                                                                              |                                     |                                     |                                     |                                     |                                     |                                     |                                                                                                                                                                                            |   | |\n",
       "q4: -----------------------R-E[X](0.000625)-ELSE_CORRELATED_ERROR[X](0.000625391)-----------------------------------------------------------------------------ELSE_CORRELATED_ERROR[X](0.000626566)-ELSE_CORRELATED_ERROR[X](0.000626959)-|-------------------------------------|-------------------------------------ELSE_CORRELATED_ERROR[X](0.000628141)-ELSE_CORRELATED_ERROR[X](0.000628536)-|---------------------------------------------------------------------------ELSE_CORRELATED_ERROR[X](0.000629723)-ELSE_CORRELATED_ERROR[X](0.00063012)---------------------------------------|---@-|-------------------\n",
       "                                            |                                                                                                                                                       |                                     |                                     |                                     |                                     |                                     |                                                                           |                                     |                                                                          |     |\n",
       "q5: -----------------------R----------------|-------------------------------------------------------------------------------------------------------------------------------------------------------|-------------------------------------|-------------------------------------ELSE_CORRELATED_ERROR[X](0.000627746)-ELSE_CORRELATED_ERROR[X](0.000628141)-ELSE_CORRELATED_ERROR[X](0.000628536)-ELSE_CORRELATED_ERROR[X](0.000628931)-ELSE_CORRELATED_ERROR[X](0.000629327)-ELSE_CORRELATED_ERROR[X](0.000629723)-ELSE_CORRELATED_ERROR[X](0.00063012)-ELSE_CORRELATED_ERROR[X](0.000630517)-@-----|-------------------\n",
       "                                            |                                                                                                                                                       |                                     |                                                                                                                 |                                     |                                                                                                                 |                                    |                                           |\n",
       "q6: -----------------------R----------------ELSE_CORRELATED_ERROR[X](0.000625391)-ELSE_CORRELATED_ERROR[X](0.000625782)-----------------------------------------------------------------------------ELSE_CORRELATED_ERROR[X](0.000626959)-ELSE_CORRELATED_ERROR[X](0.000627353)-----------------------------------------------------------------------------ELSE_CORRELATED_ERROR[X](0.000628536)-ELSE_CORRELATED_ERROR[X](0.000628931)-----------------------------------------------------------------------------ELSE_CORRELATED_ERROR[X](0.00063012)-ELSE_CORRELATED_ERROR[X](0.000630517)-------@-------------------</pre>"
      ],
      "text/plain": [
       "q0: -R---------------X-H-S-------------------------------------------------------------------------------------------------------------------------------------------------------------------------------------------------------------------------------------------------------------------------------------------------------------------------------------------------------------------------------------------------------------------------------------------------------------------------------------------------------------------------------X-------------------------------------@-H-----------------------\n",
       "                     |                                                                                                                                                                                                                                                                                                                                                                                                                                                                                                                                   |                                     |\n",
       "q1: -R---------------|-H-Y-S-----------------------------------------------------------------------------------------------------------------------------------------------------------------------------------------------------------------------------------------------------------------------------------------------------------------------------------------------------------------------------------------------------------------------------------------------------------------------------------------------------------------------------|-------------------------------------|-H-X-@-------------------\n",
       "                     |   |                                                                                                                                                                                                                                                                                                                                                                                                                                                                                                                               |                                     |   | |\n",
       "q2: -R---------------|---|-------------------------------------------------------------------------------------------------------------------------------------------------------------------------------------------------------------------------------------------------------------------------------------------------------------------------------------------------------------------------------------------------------------------------------------------------------------------------------------------------------------------------------|-------------------------------------|---|-|-DEPOLARIZE1(0.75)-\n",
       "                     |   |                                                                                                                                                                                                                                                                                                                                                                                                                                                                                                                               |                                     |   | |\n",
       "q3: -R-X_ERROR(0.01)-@---@-R--------------------------------------------------------------------------------------------ELSE_CORRELATED_ERROR[X](0.000626174)-ELSE_CORRELATED_ERROR[X](0.000626566)-ELSE_CORRELATED_ERROR[X](0.000626959)-ELSE_CORRELATED_ERROR[X](0.000627353)-ELSE_CORRELATED_ERROR[X](0.000627746)-ELSE_CORRELATED_ERROR[X](0.000628141)-ELSE_CORRELATED_ERROR[X](0.000628536)-ELSE_CORRELATED_ERROR[X](0.000628931)------------------------------------------------------------------------------------------------------------------@-------------------------------------|---|-|-------------------\n",
       "                                                                                                                                                              |                                     |                                     |                                     |                                     |                                     |                                     |                                                                                                                                                                                            |   | |\n",
       "q4: -----------------------R-E[X](0.000625)-ELSE_CORRELATED_ERROR[X](0.000625391)-----------------------------------------------------------------------------ELSE_CORRELATED_ERROR[X](0.000626566)-ELSE_CORRELATED_ERROR[X](0.000626959)-|-------------------------------------|-------------------------------------ELSE_CORRELATED_ERROR[X](0.000628141)-ELSE_CORRELATED_ERROR[X](0.000628536)-|---------------------------------------------------------------------------ELSE_CORRELATED_ERROR[X](0.000629723)-ELSE_CORRELATED_ERROR[X](0.00063012)---------------------------------------|---@-|-------------------\n",
       "                                            |                                                                                                                                                       |                                     |                                     |                                     |                                     |                                     |                                                                           |                                     |                                                                          |     |\n",
       "q5: -----------------------R----------------|-------------------------------------------------------------------------------------------------------------------------------------------------------|-------------------------------------|-------------------------------------ELSE_CORRELATED_ERROR[X](0.000627746)-ELSE_CORRELATED_ERROR[X](0.000628141)-ELSE_CORRELATED_ERROR[X](0.000628536)-ELSE_CORRELATED_ERROR[X](0.000628931)-ELSE_CORRELATED_ERROR[X](0.000629327)-ELSE_CORRELATED_ERROR[X](0.000629723)-ELSE_CORRELATED_ERROR[X](0.00063012)-ELSE_CORRELATED_ERROR[X](0.000630517)-@-----|-------------------\n",
       "                                            |                                                                                                                                                       |                                     |                                                                                                                 |                                     |                                                                                                                 |                                    |                                           |\n",
       "q6: -----------------------R----------------ELSE_CORRELATED_ERROR[X](0.000625391)-ELSE_CORRELATED_ERROR[X](0.000625782)-----------------------------------------------------------------------------ELSE_CORRELATED_ERROR[X](0.000626959)-ELSE_CORRELATED_ERROR[X](0.000627353)-----------------------------------------------------------------------------ELSE_CORRELATED_ERROR[X](0.000628536)-ELSE_CORRELATED_ERROR[X](0.000628931)-----------------------------------------------------------------------------ELSE_CORRELATED_ERROR[X](0.00063012)-ELSE_CORRELATED_ERROR[X](0.000630517)-------@-------------------"
      ]
     },
     "execution_count": 5,
     "metadata": {},
     "output_type": "execute_result"
    }
   ],
   "source": [
    "tcirc.to_stim(ancilla_offset=0)[0].diagram()"
   ]
  },
  {
   "cell_type": "code",
   "execution_count": 6,
   "metadata": {},
   "outputs": [
    {
     "data": {
      "text/plain": [
       "(stim.Circuit('''\n",
       "     R 0 1 2\n",
       "     H 0 1\n",
       "     S 0 1\n",
       "     H 0 1\n",
       " '''),\n",
       " {1: 'H gate'})"
      ]
     },
     "execution_count": 6,
     "metadata": {},
     "output_type": "execute_result"
    }
   ],
   "source": [
    "tcirc.to_stim(include_time_correlations=False)"
   ]
  },
  {
   "cell_type": "code",
   "execution_count": null,
   "metadata": {},
   "outputs": [],
   "source": []
  }
 ],
 "metadata": {
  "kernelspec": {
   "display_name": "tstim-kec_ArEa-py3.12",
   "language": "python",
   "name": "python3"
  },
  "language_info": {
   "codemirror_mode": {
    "name": "ipython",
    "version": 3
   },
   "file_extension": ".py",
   "mimetype": "text/x-python",
   "name": "python",
   "nbconvert_exporter": "python",
   "pygments_lexer": "ipython3",
   "version": "3.12.2"
  }
 },
 "nbformat": 4,
 "nbformat_minor": 2
}
