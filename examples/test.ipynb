{
 "cells": [
  {
   "cell_type": "code",
   "execution_count": 1,
   "metadata": {},
   "outputs": [],
   "source": [
    "import sys\n",
    "sys.path.append('..')\n",
    "\n",
    "import stim\n",
    "from tstim import TStimCircuit"
   ]
  },
  {
   "cell_type": "code",
   "execution_count": 2,
   "metadata": {},
   "outputs": [],
   "source": [
    "tcirc = TStimCircuit()"
   ]
  },
  {
   "cell_type": "code",
   "execution_count": 3,
   "metadata": {},
   "outputs": [],
   "source": [
    "tcirc.append_time_pos(0)\n",
    "tcirc.append('H', [0,1])\n",
    "tcirc.append_time_pos(1)\n",
    "tcirc.append_time_correlated_error('XY', [0,1], [0,1], 0.01)\n",
    "tcirc.append('S', [0,1])\n",
    "tcirc.append_time_depolarize([0,1], [2,3], 0.01)\n",
    "tcirc.append_time_pos(2)\n",
    "tcirc.append('H', [0,1])\n",
    "tcirc.append_time_pos(3)"
   ]
  },
  {
   "cell_type": "code",
   "execution_count": 4,
   "metadata": {},
   "outputs": [
    {
     "data": {
      "text/plain": [
       "stim.Circuit('''\n",
       "    R 1002\n",
       "    X_ERROR(0.01) 1002\n",
       "    CX 1002 0\n",
       "    H 0 1\n",
       "    CY 1002 1\n",
       "    S 0 1\n",
       "    R 1003 1004\n",
       "    DEPOLARIZE2(0.009375) 1003 1004\n",
       "    CX 0 1003\n",
       "    CZ 0 1003\n",
       "    H 0 1\n",
       "    CX 1 1004\n",
       "    CZ 1 1004\n",
       "''')"
      ]
     },
     "execution_count": 4,
     "metadata": {},
     "output_type": "execute_result"
    }
   ],
   "source": [
    "tcirc.to_stim(reuse_ancillae=False)"
   ]
  },
  {
   "cell_type": "code",
   "execution_count": 5,
   "metadata": {},
   "outputs": [
    {
     "data": {
      "text/plain": [
       "stim.Circuit('''\n",
       "    H 0 1\n",
       "    S 0 1\n",
       "    H 0 1\n",
       "''')"
      ]
     },
     "execution_count": 5,
     "metadata": {},
     "output_type": "execute_result"
    }
   ],
   "source": [
    "tcirc._bare_stim_circuit"
   ]
  },
  {
   "cell_type": "code",
   "execution_count": null,
   "metadata": {},
   "outputs": [],
   "source": []
  }
 ],
 "metadata": {
  "kernelspec": {
   "display_name": "tstim-kec_ArEa-py3.12",
   "language": "python",
   "name": "python3"
  },
  "language_info": {
   "codemirror_mode": {
    "name": "ipython",
    "version": 3
   },
   "file_extension": ".py",
   "mimetype": "text/x-python",
   "name": "python",
   "nbconvert_exporter": "python",
   "pygments_lexer": "ipython3",
   "version": "3.12.2"
  }
 },
 "nbformat": 4,
 "nbformat_minor": 2
}
